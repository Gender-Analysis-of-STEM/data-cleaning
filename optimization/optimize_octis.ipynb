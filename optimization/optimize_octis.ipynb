{
  "nbformat": 4,
  "nbformat_minor": 0,
  "metadata": {
    "colab": {
      "name": "optimize-octis.ipynb",
      "provenance": [],
      "collapsed_sections": [],
      "machine_shape": "hm"
    },
    "kernelspec": {
      "name": "python3",
      "display_name": "Python 3"
    },
    "language_info": {
      "name": "python"
    },
    "accelerator": "GPU"
  },
  "cells": [
    {
      "cell_type": "markdown",
      "metadata": {
        "id": "6ycmCnpGl2IX"
      },
      "source": [
        "### Install Libraries"
      ]
    },
    {
      "cell_type": "code",
      "metadata": {
        "id": "XBPCtWcMlyfz"
      },
      "source": [
        "%%capture\n",
        "!pip install octis"
      ],
      "execution_count": null,
      "outputs": []
    },
    {
      "cell_type": "markdown",
      "metadata": {
        "id": "JYEA-WnQl6M5"
      },
      "source": [
        "### Import libraries"
      ]
    },
    {
      "cell_type": "code",
      "metadata": {
        "id": "FkGVTGcml93P"
      },
      "source": [
        "from octis.models.CTM import CTM\n",
        "from octis.dataset.dataset import Dataset\n",
        "from octis.optimization.optimizer import Optimizer\n",
        "from skopt.space.space import Real, Categorical, Integer\n",
        "from octis.evaluation_metrics.coherence_metrics import Coherence\n",
        "from octis.models.LDA import LDA\n",
        "from octis.evaluation_metrics.diversity_metrics import TopicDiversity\n",
        "from octis.evaluation_metrics.coherence_metrics import Coherence"
      ],
      "execution_count": null,
      "outputs": []
    },
    {
      "cell_type": "markdown",
      "metadata": {
        "id": "f_nDi9o3l-qb"
      },
      "source": [
        "### Load Data"
      ]
    },
    {
      "cell_type": "code",
      "metadata": {
        "id": "pI_Kaek5mAMn"
      },
      "source": [
        "from octis.dataset.dataset import Dataset\n",
        "dataset = Dataset()\n",
        "dataset.load_custom_dataset_from_folder(\"STEM\")"
      ],
      "execution_count": null,
      "outputs": []
    },
    {
      "cell_type": "markdown",
      "metadata": {
        "id": "w_zaMsXOmI6W"
      },
      "source": [
        "### Load Topic Model"
      ]
    },
    {
      "cell_type": "code",
      "metadata": {
        "id": "bI5hpkJ5mK0d"
      },
      "source": [
        "model = CTM(num_topics=10,\n",
        "            num_epochs=30,\n",
        "            inference_type='zeroshot', \n",
        "            bert_model=\"distiluse-base-multilingual-cased\")"
      ],
      "execution_count": null,
      "outputs": []
    },
    {
      "cell_type": "markdown",
      "metadata": {
        "id": "LTqs21d3uzTT"
      },
      "source": [
        "### Define Evaluation Metrics"
      ]
    },
    {
      "cell_type": "code",
      "metadata": {
        "id": "xNBkHJKvt1mo"
      },
      "source": [
        "#Coherence\n",
        "npmi = Coherence(texts=dataset.get_corpus())\n",
        "\n",
        "#Diversity\n",
        "topic_diversity = TopicDiversity(topk=10)"
      ],
      "execution_count": null,
      "outputs": []
    },
    {
      "cell_type": "code",
      "metadata": {
        "id": "F7XV7Nb1t38r"
      },
      "source": [
        "search_space = {\"num_layers\": Categorical({1, 2, 3}), \n",
        "                \"num_neurons\": Categorical({100, 200, 300}),\n",
        "                \"activation\": Categorical({'relu', 'softplus'}), \n",
        "                \"dropout\": Real(0.0, 0.95)\n",
        "}"
      ],
      "execution_count": null,
      "outputs": []
    },
    {
      "cell_type": "code",
      "metadata": {
        "id": "HP6j5lYQt5Fp"
      },
      "source": [
        "optimization_runs=30\n",
        "model_runs=1"
      ],
      "execution_count": null,
      "outputs": []
    },
    {
      "cell_type": "code",
      "metadata": {
        "colab": {
          "base_uri": "https://localhost:8080/"
        },
        "id": "2VKMB52Ht7qQ",
        "outputId": "239f938d-2ee7-4c9a-bc74-50a947ae3b1c"
      },
      "source": [
        "optimizer=Optimizer()\n",
        "optimization_result = optimizer.optimize(\n",
        "    model, dataset, npmi, search_space, number_of_call=optimization_runs, \n",
        "    model_runs=model_runs, save_models=True, \n",
        "    extra_metrics=None, # to keep track of other metrics\n",
        "    plot_best_seen=True, plot_model=True, plot_name=\"B0_plot\",\n",
        "    save_path='results2/test_ctm//')"
      ],
      "execution_count": null,
      "outputs": [
        {
          "output_type": "stream",
          "text": [
            "Current call:  0\n",
            "Current call:  1\n",
            "Current call:  2\n",
            "Current call:  3\n",
            "Current call:  4\n",
            "Current call:  5\n",
            "Current call:  6\n",
            "Current call:  7\n",
            "Current call:  8\n",
            "Current call:  9\n",
            "Current call:  10\n",
            "Current call:  11\n",
            "Current call:  12\n",
            "Current call:  13\n",
            "Current call:  14\n",
            "Current call:  15\n",
            "Current call:  16\n",
            "Current call:  17\n",
            "Current call:  18\n",
            "Current call:  19\n",
            "Current call:  20\n",
            "Current call:  21\n",
            "Current call:  22\n",
            "Current call:  23\n",
            "Current call:  24\n",
            "Current call:  25\n",
            "Current call:  26\n",
            "Current call:  27\n",
            "Current call:  28\n",
            "Current call:  29\n"
          ],
          "name": "stdout"
        }
      ]
    },
    {
      "cell_type": "markdown",
      "metadata": {
        "id": "whOayBBevAUG"
      },
      "source": [
        "### Save Results of Optimization"
      ]
    },
    {
      "cell_type": "code",
      "metadata": {
        "id": "987K4ibgvElW"
      },
      "source": [
        "optimization_result.save_to_csv(\"results_ctm.csv\")"
      ],
      "execution_count": null,
      "outputs": []
    },
    {
      "cell_type": "markdown",
      "metadata": {
        "id": "SmjfAeAP6w4l"
      },
      "source": [
        "### Analysis of the result"
      ]
    },
    {
      "cell_type": "code",
      "metadata": {
        "colab": {
          "base_uri": "https://localhost:8080/"
        },
        "id": "XEB1fG176zNn",
        "outputId": "e44b9f52-f22a-4a38-f4ad-adaf434a05a5"
      },
      "source": [
        "import json\n",
        "res = json.load(open(\"results2/test_ctm/result.json\",'r'))\n",
        "res.keys()"
      ],
      "execution_count": null,
      "outputs": [
        {
          "output_type": "execute_result",
          "data": {
            "text/plain": [
              "dict_keys(['dataset_name', 'dataset_path', 'is_cached', 'kernel', 'acq_func', 'surrogate_model', 'optimization_type', 'model_runs', 'save_models', 'save_step', 'save_name', 'save_path', 'early_stop', 'early_step', 'plot_model', 'plot_best_seen', 'plot_name', 'log_scale_plot', 'search_space', 'model_name', 'model_attributes', 'use_partitioning', 'metric_name', 'extra_metric_names', 'metric_attributes', 'extra_metric_attributes', 'current_call', 'number_of_call', 'random_state', 'x0', 'y0', 'n_random_starts', 'initial_point_generator', 'topk', 'time_eval', 'dict_model_runs', 'f_val', 'x_iters'])"
            ]
          },
          "metadata": {
            "tags": []
          },
          "execution_count": 13
        }
      ]
    },
    {
      "cell_type": "code",
      "metadata": {
        "colab": {
          "base_uri": "https://localhost:8080/"
        },
        "id": "EuzafS-9EKZX",
        "outputId": "188f1a52-bfb4-423b-a704-f7cf4f6815ff"
      },
      "source": [
        "res['x_iters']['activation']\n",
        "res[\"f_val\"]"
      ],
      "execution_count": null,
      "outputs": [
        {
          "output_type": "execute_result",
          "data": {
            "text/plain": [
              "[-0.012696563489589929,\n",
              " 0.05897518467201388,\n",
              " 0.09764432158527746,\n",
              " 0.03325646498718681,\n",
              " -0.010605091138006256,\n",
              " -0.013034346318947954,\n",
              " 0.0001274738384572576,\n",
              " 0.026845095309759075,\n",
              " 0.10034473768889023,\n",
              " 0.0684881494880597,\n",
              " 0.019186981499777364,\n",
              " 0.07814368834514229,\n",
              " 0.09009253740505901,\n",
              " 0.13083181181227352,\n",
              " 0.079152198172026,\n",
              " 0.0770071020984817,\n",
              " 0.12020691795739855,\n",
              " 0.07501535182346523,\n",
              " 0.07204116320827589,\n",
              " 0.07955485832140077,\n",
              " 0.10674771374324746,\n",
              " 0.0770850920407112,\n",
              " 0.09114470531326471,\n",
              " 0.12135515938870212,\n",
              " 0.08592797544504167,\n",
              " 0.06275972380628435,\n",
              " 0.10379583911538526,\n",
              " 0.1182030964387675,\n",
              " 0.0508371731843613,\n",
              " 0.09071049920663729]"
            ]
          },
          "metadata": {
            "tags": []
          },
          "execution_count": 18
        }
      ]
    },
    {
      "cell_type": "code",
      "metadata": {
        "colab": {
          "base_uri": "https://localhost:8080/"
        },
        "id": "HFJOHx8V8YEP",
        "outputId": "b748eaa3-e8cc-4f03-8eb7-0ad279a94b3d"
      },
      "source": [
        "import matplotlib.pyplot as plt\n",
        "\n",
        "plt.plot(res[\"f_val\"])"
      ],
      "execution_count": null,
      "outputs": [
        {
          "output_type": "execute_result",
          "data": {
            "text/plain": [
              "[<matplotlib.lines.Line2D at 0x7f9f1666e950>]"
            ]
          },
          "metadata": {
            "tags": []
          },
          "execution_count": 27
        }
      ]
    },
    {
      "cell_type": "markdown",
      "metadata": {
        "id": "p87AU-I969p9"
      },
      "source": [
        "### Get hyperparameters"
      ]
    },
    {
      "cell_type": "code",
      "metadata": {
        "colab": {
          "base_uri": "https://localhost:8080/"
        },
        "id": "uHbO2H-uAwmu",
        "outputId": "3233ae0f-ad95-4b87-ad33-9f970c43114b"
      },
      "source": [
        "model.hyperparameters\n"
      ],
      "execution_count": null,
      "outputs": [
        {
          "output_type": "execute_result",
          "data": {
            "text/plain": [
              "{'activation': 'softplus',\n",
              " 'batch_size': 64,\n",
              " 'bert_model': 'distiluse-base-multilingual-cased',\n",
              " 'bert_path': '',\n",
              " 'dropout': 0.6528626452408228,\n",
              " 'hidden_sizes': (100, 100, 100),\n",
              " 'inference_type': 'zeroshot',\n",
              " 'learn_priors': True,\n",
              " 'lr': 0.002,\n",
              " 'model_type': 'prodLDA',\n",
              " 'momentum': 0.99,\n",
              " 'num_epochs': 30,\n",
              " 'num_layers': 3,\n",
              " 'num_neurons': 100,\n",
              " 'num_samples': 10,\n",
              " 'num_topics': 10,\n",
              " 'prior_mean': 0.0,\n",
              " 'prior_variance': None,\n",
              " 'reduce_on_plateau': False,\n",
              " 'solver': 'adam'}"
            ]
          },
          "metadata": {
            "tags": []
          },
          "execution_count": 24
        }
      ]
    }
  ]
}